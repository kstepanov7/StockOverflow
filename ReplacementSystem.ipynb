{
  "nbformat": 4,
  "nbformat_minor": 0,
  "metadata": {
    "colab": {
      "name": "12.ipynb",
      "provenance": []
    },
    "kernelspec": {
      "name": "python3",
      "display_name": "Python 3"
    }
  },
  "cells": [
    {
      "cell_type": "code",
      "metadata": {
        "id": "ZO7c5RtUFp4W",
        "outputId": "0ea589b9-19f6-4624-8b70-2b2eafac52ed",
        "colab": {
          "base_uri": "https://localhost:8080/",
          "height": 34
        }
      },
      "source": [
        "from sklearn.neighbors import NearestNeighbors\n",
        "import numpy as np\n",
        "import pandas as pd\n",
        "import scipy\n",
        "\n",
        "import google.colab\n",
        "google.colab.drive.mount(\"/content/drive\")"
      ],
      "execution_count": 1,
      "outputs": [
        {
          "output_type": "stream",
          "text": [
            "Mounted at /content/drive\n"
          ],
          "name": "stdout"
        }
      ]
    },
    {
      "cell_type": "code",
      "metadata": {
        "id": "gF2dMoO6vx1l",
        "outputId": "66ab562d-f655-4be0-9ce1-3212c84719bb",
        "colab": {
          "base_uri": "https://localhost:8080/",
          "height": 224
        }
      },
      "source": [
        "materials_hier = pd.read_csv('/content/drive/My Drive/LentaHack/materials.csv')\n",
        "materials_hier.head()"
      ],
      "execution_count": 2,
      "outputs": [
        {
          "output_type": "execute_result",
          "data": {
            "text/html": [
              "<div>\n",
              "<style scoped>\n",
              "    .dataframe tbody tr th:only-of-type {\n",
              "        vertical-align: middle;\n",
              "    }\n",
              "\n",
              "    .dataframe tbody tr th {\n",
              "        vertical-align: top;\n",
              "    }\n",
              "\n",
              "    .dataframe thead th {\n",
              "        text-align: right;\n",
              "    }\n",
              "</style>\n",
              "<table border=\"1\" class=\"dataframe\">\n",
              "  <thead>\n",
              "    <tr style=\"text-align: right;\">\n",
              "      <th></th>\n",
              "      <th>material</th>\n",
              "      <th>hier_level_1</th>\n",
              "      <th>hier_level_2</th>\n",
              "      <th>hier_level_3</th>\n",
              "      <th>hier_level_4</th>\n",
              "      <th>vendor</th>\n",
              "      <th>is_private_label</th>\n",
              "      <th>is_alco</th>\n",
              "    </tr>\n",
              "  </thead>\n",
              "  <tbody>\n",
              "    <tr>\n",
              "      <th>0</th>\n",
              "      <td>35cbdf61de9e19c8b417327aaef14c88</td>\n",
              "      <td>NONFOOD</td>\n",
              "      <td>ea5d2f1c4608232e07d3aa3d998e5135</td>\n",
              "      <td>99cad265a1768cc2dd013f0e740300ae</td>\n",
              "      <td>9eed45f71360b4b1e2590637467220e5</td>\n",
              "      <td>212a38db0ddcd009f1e164cc8483485c</td>\n",
              "      <td>0</td>\n",
              "      <td>0</td>\n",
              "    </tr>\n",
              "    <tr>\n",
              "      <th>1</th>\n",
              "      <td>c0b0bf24d4ec71da3d304f761ec555d8</td>\n",
              "      <td>NONFOOD</td>\n",
              "      <td>ea5d2f1c4608232e07d3aa3d998e5135</td>\n",
              "      <td>99cad265a1768cc2dd013f0e740300ae</td>\n",
              "      <td>de2eb747e0896c050905a6b635ab800a</td>\n",
              "      <td>9b0b6c7d55413ad3b67761b7b125b534</td>\n",
              "      <td>0</td>\n",
              "      <td>0</td>\n",
              "    </tr>\n",
              "    <tr>\n",
              "      <th>2</th>\n",
              "      <td>f0fc5e654a81a7c4b8ba8d7c26546e14</td>\n",
              "      <td>NONFOOD</td>\n",
              "      <td>ea5d2f1c4608232e07d3aa3d998e5135</td>\n",
              "      <td>99cad265a1768cc2dd013f0e740300ae</td>\n",
              "      <td>8a969031832c535daf96e0c2aed8e814</td>\n",
              "      <td>9b0b6c7d55413ad3b67761b7b125b534</td>\n",
              "      <td>0</td>\n",
              "      <td>0</td>\n",
              "    </tr>\n",
              "    <tr>\n",
              "      <th>3</th>\n",
              "      <td>353693e64fb5f9e2d29746d7fe6edf1e</td>\n",
              "      <td>NONFOOD</td>\n",
              "      <td>ea5d2f1c4608232e07d3aa3d998e5135</td>\n",
              "      <td>b58f7d184743106a8a66028b7a28937c</td>\n",
              "      <td>4c0dc012ebb679a18b244c53c6f59b5a</td>\n",
              "      <td>a3c8be149d718771e892619bd310b961</td>\n",
              "      <td>0</td>\n",
              "      <td>0</td>\n",
              "    </tr>\n",
              "    <tr>\n",
              "      <th>4</th>\n",
              "      <td>5d9e0b4302ce95448cae72165ff4cf5b</td>\n",
              "      <td>NONFOOD</td>\n",
              "      <td>ea5d2f1c4608232e07d3aa3d998e5135</td>\n",
              "      <td>b58f7d184743106a8a66028b7a28937c</td>\n",
              "      <td>4c0dc012ebb679a18b244c53c6f59b5a</td>\n",
              "      <td>a3c8be149d718771e892619bd310b961</td>\n",
              "      <td>0</td>\n",
              "      <td>0</td>\n",
              "    </tr>\n",
              "  </tbody>\n",
              "</table>\n",
              "</div>"
            ],
            "text/plain": [
              "                           material hier_level_1  ... is_private_label is_alco\n",
              "0  35cbdf61de9e19c8b417327aaef14c88      NONFOOD  ...                0       0\n",
              "1  c0b0bf24d4ec71da3d304f761ec555d8      NONFOOD  ...                0       0\n",
              "2  f0fc5e654a81a7c4b8ba8d7c26546e14      NONFOOD  ...                0       0\n",
              "3  353693e64fb5f9e2d29746d7fe6edf1e      NONFOOD  ...                0       0\n",
              "4  5d9e0b4302ce95448cae72165ff4cf5b      NONFOOD  ...                0       0\n",
              "\n",
              "[5 rows x 8 columns]"
            ]
          },
          "metadata": {
            "tags": []
          },
          "execution_count": 2
        }
      ]
    },
    {
      "cell_type": "code",
      "metadata": {
        "id": "77aXxdhgwvcU",
        "outputId": "a6af1348-cbdb-4aad-9b77-d31b44ea7819",
        "colab": {
          "base_uri": "https://localhost:8080/",
          "height": 204
        }
      },
      "source": [
        "materials_ids = pd.read_csv('/content/drive/My Drive/LentaHack/materials_ids.csv').drop(columns=['Unnamed: 0'])\n",
        "materials_ids.head()"
      ],
      "execution_count": 3,
      "outputs": [
        {
          "output_type": "execute_result",
          "data": {
            "text/html": [
              "<div>\n",
              "<style scoped>\n",
              "    .dataframe tbody tr th:only-of-type {\n",
              "        vertical-align: middle;\n",
              "    }\n",
              "\n",
              "    .dataframe tbody tr th {\n",
              "        vertical-align: top;\n",
              "    }\n",
              "\n",
              "    .dataframe thead th {\n",
              "        text-align: right;\n",
              "    }\n",
              "</style>\n",
              "<table border=\"1\" class=\"dataframe\">\n",
              "  <thead>\n",
              "    <tr style=\"text-align: right;\">\n",
              "      <th></th>\n",
              "      <th>material</th>\n",
              "      <th>material_id</th>\n",
              "    </tr>\n",
              "  </thead>\n",
              "  <tbody>\n",
              "    <tr>\n",
              "      <th>0</th>\n",
              "      <td>35cbdf61de9e19c8b417327aaef14c88</td>\n",
              "      <td>21956</td>\n",
              "    </tr>\n",
              "    <tr>\n",
              "      <th>1</th>\n",
              "      <td>c0b0bf24d4ec71da3d304f761ec555d8</td>\n",
              "      <td>79256</td>\n",
              "    </tr>\n",
              "    <tr>\n",
              "      <th>2</th>\n",
              "      <td>f0fc5e654a81a7c4b8ba8d7c26546e14</td>\n",
              "      <td>99321</td>\n",
              "    </tr>\n",
              "    <tr>\n",
              "      <th>3</th>\n",
              "      <td>353693e64fb5f9e2d29746d7fe6edf1e</td>\n",
              "      <td>21739</td>\n",
              "    </tr>\n",
              "    <tr>\n",
              "      <th>4</th>\n",
              "      <td>5d9e0b4302ce95448cae72165ff4cf5b</td>\n",
              "      <td>38443</td>\n",
              "    </tr>\n",
              "  </tbody>\n",
              "</table>\n",
              "</div>"
            ],
            "text/plain": [
              "                           material  material_id\n",
              "0  35cbdf61de9e19c8b417327aaef14c88        21956\n",
              "1  c0b0bf24d4ec71da3d304f761ec555d8        79256\n",
              "2  f0fc5e654a81a7c4b8ba8d7c26546e14        99321\n",
              "3  353693e64fb5f9e2d29746d7fe6edf1e        21739\n",
              "4  5d9e0b4302ce95448cae72165ff4cf5b        38443"
            ]
          },
          "metadata": {
            "tags": []
          },
          "execution_count": 3
        }
      ]
    },
    {
      "cell_type": "code",
      "metadata": {
        "id": "qDPABrhVHvJl",
        "outputId": "aaa32ca4-d869-4e7b-b5f4-bca09edc4d68",
        "colab": {
          "base_uri": "https://localhost:8080/",
          "height": 204
        }
      },
      "source": [
        "clients_ids = pd.read_csv('/content/drive/My Drive/LentaHack/customers_ids.csv').drop(columns=['Unnamed: 0'])\n",
        "clients_ids.head()"
      ],
      "execution_count": 4,
      "outputs": [
        {
          "output_type": "execute_result",
          "data": {
            "text/html": [
              "<div>\n",
              "<style scoped>\n",
              "    .dataframe tbody tr th:only-of-type {\n",
              "        vertical-align: middle;\n",
              "    }\n",
              "\n",
              "    .dataframe tbody tr th {\n",
              "        vertical-align: top;\n",
              "    }\n",
              "\n",
              "    .dataframe thead th {\n",
              "        text-align: right;\n",
              "    }\n",
              "</style>\n",
              "<table border=\"1\" class=\"dataframe\">\n",
              "  <thead>\n",
              "    <tr style=\"text-align: right;\">\n",
              "      <th></th>\n",
              "      <th>client_id_num</th>\n",
              "      <th>client_id</th>\n",
              "    </tr>\n",
              "  </thead>\n",
              "  <tbody>\n",
              "    <tr>\n",
              "      <th>0</th>\n",
              "      <td>0</td>\n",
              "      <td>0000d48a8891cd462fdf01ea861ec53e</td>\n",
              "    </tr>\n",
              "    <tr>\n",
              "      <th>1</th>\n",
              "      <td>1</td>\n",
              "      <td>00028a1dcb30863404a386961a69300e</td>\n",
              "    </tr>\n",
              "    <tr>\n",
              "      <th>2</th>\n",
              "      <td>2</td>\n",
              "      <td>0004274683494a9eca5e70ef97299d55</td>\n",
              "    </tr>\n",
              "    <tr>\n",
              "      <th>3</th>\n",
              "      <td>3</td>\n",
              "      <td>00072f81efcb3481861f7300c5e2a88a</td>\n",
              "    </tr>\n",
              "    <tr>\n",
              "      <th>4</th>\n",
              "      <td>4</td>\n",
              "      <td>00076596eb749cf10c2e984621dffe95</td>\n",
              "    </tr>\n",
              "  </tbody>\n",
              "</table>\n",
              "</div>"
            ],
            "text/plain": [
              "   client_id_num                         client_id\n",
              "0              0  0000d48a8891cd462fdf01ea861ec53e\n",
              "1              1  00028a1dcb30863404a386961a69300e\n",
              "2              2  0004274683494a9eca5e70ef97299d55\n",
              "3              3  00072f81efcb3481861f7300c5e2a88a\n",
              "4              4  00076596eb749cf10c2e984621dffe95"
            ]
          },
          "metadata": {
            "tags": []
          },
          "execution_count": 4
        }
      ]
    },
    {
      "cell_type": "code",
      "metadata": {
        "id": "qibCLmJiJAPe",
        "outputId": "38bee831-eb0d-436f-f878-49afc01f2e10",
        "colab": {
          "base_uri": "https://localhost:8080/",
          "height": 204
        }
      },
      "source": [
        "#data = pd.read_csv('/content/drive/My Drive/LentaHack/data_train.csv').drop(columns=['Unnamed: 0']).dropna()\n",
        "#data = data.rename(columns={\"harmonic_mean_loyalty\": \"loyalty\", \"client_id\": \"client_id_str\", 'client_id_num': 'client_id'})\n",
        "data_csr = scipy.sparse.csr_matrix((data.loyalty, (data.client_id, data.material_id)))\n",
        "data.head()"
      ],
      "execution_count": 87,
      "outputs": [
        {
          "output_type": "execute_result",
          "data": {
            "text/html": [
              "<div>\n",
              "<style scoped>\n",
              "    .dataframe tbody tr th:only-of-type {\n",
              "        vertical-align: middle;\n",
              "    }\n",
              "\n",
              "    .dataframe tbody tr th {\n",
              "        vertical-align: top;\n",
              "    }\n",
              "\n",
              "    .dataframe thead th {\n",
              "        text-align: right;\n",
              "    }\n",
              "</style>\n",
              "<table border=\"1\" class=\"dataframe\">\n",
              "  <thead>\n",
              "    <tr style=\"text-align: right;\">\n",
              "      <th></th>\n",
              "      <th>client_id_str</th>\n",
              "      <th>hier_level_4</th>\n",
              "      <th>material</th>\n",
              "      <th>loyalty</th>\n",
              "      <th>material_id</th>\n",
              "      <th>client_id</th>\n",
              "    </tr>\n",
              "  </thead>\n",
              "  <tbody>\n",
              "    <tr>\n",
              "      <th>0</th>\n",
              "      <td>0000d48a8891cd462fdf01ea861ec53e</td>\n",
              "      <td>05d72f9cf2bd35d8e22a38d8045dcc7f</td>\n",
              "      <td>692ac9d604f2d7c4142c6e922e4def19</td>\n",
              "      <td>0.030925</td>\n",
              "      <td>43194</td>\n",
              "      <td>0</td>\n",
              "    </tr>\n",
              "    <tr>\n",
              "      <th>1</th>\n",
              "      <td>0000d48a8891cd462fdf01ea861ec53e</td>\n",
              "      <td>0dea9ce37d6d69a8bbc3e1c5e8ef6c9e</td>\n",
              "      <td>27297a3dcebad83fdd736facdae40caf</td>\n",
              "      <td>0.007822</td>\n",
              "      <td>15859</td>\n",
              "      <td>0</td>\n",
              "    </tr>\n",
              "    <tr>\n",
              "      <th>2</th>\n",
              "      <td>0000d48a8891cd462fdf01ea861ec53e</td>\n",
              "      <td>14df794291216db63fdeb9dfc9bf350c</td>\n",
              "      <td>6dc38377b90a235304ff4ac87a8e905c</td>\n",
              "      <td>0.007822</td>\n",
              "      <td>45097</td>\n",
              "      <td>0</td>\n",
              "    </tr>\n",
              "    <tr>\n",
              "      <th>3</th>\n",
              "      <td>0000d48a8891cd462fdf01ea861ec53e</td>\n",
              "      <td>17bdeb073cbf020103735133de8927f8</td>\n",
              "      <td>7eccfa30cf0507106febd34aad10ef00</td>\n",
              "      <td>0.007822</td>\n",
              "      <td>52097</td>\n",
              "      <td>0</td>\n",
              "    </tr>\n",
              "    <tr>\n",
              "      <th>4</th>\n",
              "      <td>0000d48a8891cd462fdf01ea861ec53e</td>\n",
              "      <td>184f06b1548d70c83bd10a6b5dd8c965</td>\n",
              "      <td>ba02089940741339300b82e24e91197d</td>\n",
              "      <td>0.007822</td>\n",
              "      <td>76572</td>\n",
              "      <td>0</td>\n",
              "    </tr>\n",
              "  </tbody>\n",
              "</table>\n",
              "</div>"
            ],
            "text/plain": [
              "                      client_id_str  ... client_id\n",
              "0  0000d48a8891cd462fdf01ea861ec53e  ...         0\n",
              "1  0000d48a8891cd462fdf01ea861ec53e  ...         0\n",
              "2  0000d48a8891cd462fdf01ea861ec53e  ...         0\n",
              "3  0000d48a8891cd462fdf01ea861ec53e  ...         0\n",
              "4  0000d48a8891cd462fdf01ea861ec53e  ...         0\n",
              "\n",
              "[5 rows x 6 columns]"
            ]
          },
          "metadata": {
            "tags": []
          },
          "execution_count": 87
        }
      ]
    },
    {
      "cell_type": "code",
      "metadata": {
        "id": "8-lJzeSvGfzh",
        "outputId": "8f8d925d-bd91-4cec-fb51-9eef72d4f42b",
        "colab": {
          "base_uri": "https://localhost:8080/",
          "height": 68
        }
      },
      "source": [
        "from sklearn.neighbors import NearestNeighbors\n",
        "\n",
        "\n",
        "\"\"\"\"\"\"\"\"\"\"\"\"\"\"\"\"\"\"\"\"\"\"\"\"\"\"\"\"\"\"\"\"\n",
        "\"\"\"\"\"\"\"FIT CLASSIFAER \"\"\"\"\"\"\"\"\"\n",
        "\n",
        "\"\"\"\"\"\"\"\"\"\"\"\"\"\"\"\"\"\"\"\"\"\"\"\"\"\"\"\"\"\"\"\"\n",
        "\n",
        "KNN = NearestNeighbors(n_neighbors=10)\n",
        "KNN.fit(data_csr)\n",
        "\n",
        "client_row = scipy.sparse.csr_matrix((data[data['client_id']==0].loyalty, \n",
        "                                   (data[data['client_id']==0].client_id, data[data['client_id']==0].material_id)), \n",
        "                                    shape = (1,105609))\n",
        "\n",
        "client_row = client_row.toarray().reshape(1,-1)\n",
        "neighs = KNN.kneighbors(client_row)\n",
        "print(neighs)\n"
      ],
      "execution_count": 89,
      "outputs": [
        {
          "output_type": "stream",
          "text": [
            "(array([[0.        , 0.37892768, 0.38622771, 0.39185912, 0.39699531,\n",
            "        0.39735918, 0.39749011, 0.39755529, 0.3982522 , 0.40159841]]), array([[    0, 36539, 12763, 27086, 26451, 12524, 46514,  9909, 38660,\n",
            "        16260]]))\n"
          ],
          "name": "stdout"
        }
      ]
    },
    {
      "cell_type": "code",
      "metadata": {
        "id": "M_bkn7C66TAB",
        "outputId": "44d45786-496b-472e-c80e-b624692ca555",
        "colab": {
          "base_uri": "https://localhost:8080/",
          "height": 34
        }
      },
      "source": [
        "data[data['client_id'] == '0004274683494a9eca5e70ef97299d55'].client_id_num.values[0]"
      ],
      "execution_count": 65,
      "outputs": [
        {
          "output_type": "execute_result",
          "data": {
            "text/plain": [
              "2"
            ]
          },
          "metadata": {
            "tags": []
          },
          "execution_count": 65
        }
      ]
    },
    {
      "cell_type": "code",
      "metadata": {
        "id": "XRCSO73fSYwj"
      },
      "source": [
        "def find_replacement(client_id):\n",
        "\n",
        "      # convert client_id to client_idx\n",
        "      client_idx = clients_ids[clients_ids['client_id'] == client_id].client_id_num.values[0]\n",
        "\n",
        "      # detect his key-prodcut\n",
        "      client = data[data.client_id == 0]\n",
        "      max_loyalty = client.loyalty.values.max()\n",
        "      max_loyalty_material_idx = int(client.iloc[client.loyalty.idxmax()].material_id)\n",
        "\n",
        "      # find his kNN\n",
        "      client_row = scipy.sparse.csr_matrix((client.loyalty, \n",
        "                                        (client.client_id, client.material_id)), \n",
        "                                          shape = (1,105609))\n",
        "\n",
        "      client_row = client_row.toarray()\n",
        "      neighs = KNN.kneighbors(client_row)[1][0][1:]\n",
        "\n",
        "      # find key-product (absent) material_id and hier_level_4\n",
        "      absent_material = materials_ids[materials_ids.material_id == max_loyalty_material_idx].material.values[0]\n",
        "      absent_material_h = materials_hier[materials_hier.material == absent_material].hier_level_4.values[0]\n",
        "\n",
        "      # iterante over kNN\n",
        "      for n, neigh in enumerate(neighs):\n",
        "          \n",
        "          # find neighbors top products in category of user key-product\n",
        "          mat_ids = data[data['client_id']==neigh].sort_values(by=['loyalty'], ascending=False).material_id.values\n",
        "\n",
        "          # search amoung neighbors top product in category of user key-product\n",
        "          for i, mat_id in enumerate(mat_ids):\n",
        "                  material_n = materials_ids[materials_ids.material_id == mat_id].material.values[0]\n",
        "                  if materials_hier[materials_hier.material == material_n].hier_level_4.values[0] == absent_material_h:\n",
        "\n",
        "                          if material_n != absent_material:\n",
        "                            #print(material_n, n, i)\n",
        "                            return material_n"
      ],
      "execution_count": 90,
      "outputs": []
    },
    {
      "cell_type": "code",
      "metadata": {
        "id": "gc3whnW67BSC",
        "outputId": "34d7ca04-46cd-4af4-d720-4d61ac560414",
        "colab": {
          "base_uri": "https://localhost:8080/",
          "height": 425
        }
      },
      "source": [
        ""
      ],
      "execution_count": 82,
      "outputs": [
        {
          "output_type": "stream",
          "text": [
            "2\n",
            "0.1565446961832537\n",
            "286\n"
          ],
          "name": "stdout"
        },
        {
          "output_type": "error",
          "ename": "IndexError",
          "evalue": "ignored",
          "traceback": [
            "\u001b[0;31m---------------------------------------------------------------------------\u001b[0m",
            "\u001b[0;31mIndexError\u001b[0m                                Traceback (most recent call last)",
            "\u001b[0;32m<ipython-input-82-e672cf22d2b8>\u001b[0m in \u001b[0;36m<module>\u001b[0;34m()\u001b[0m\n\u001b[1;32m     10\u001b[0m \u001b[0mmax_loyalty\u001b[0m \u001b[0;34m=\u001b[0m \u001b[0mclient\u001b[0m\u001b[0;34m.\u001b[0m\u001b[0mharmonic_mean_loyalty\u001b[0m\u001b[0;34m.\u001b[0m\u001b[0mvalues\u001b[0m\u001b[0;34m.\u001b[0m\u001b[0mmax\u001b[0m\u001b[0;34m(\u001b[0m\u001b[0;34m)\u001b[0m\u001b[0;34m\u001b[0m\u001b[0;34m\u001b[0m\u001b[0m\n\u001b[1;32m     11\u001b[0m \u001b[0mprint\u001b[0m\u001b[0;34m(\u001b[0m\u001b[0mclient\u001b[0m\u001b[0;34m.\u001b[0m\u001b[0mharmonic_mean_loyalty\u001b[0m\u001b[0;34m.\u001b[0m\u001b[0midxmax\u001b[0m\u001b[0;34m(\u001b[0m\u001b[0;34m)\u001b[0m\u001b[0;34m)\u001b[0m\u001b[0;34m\u001b[0m\u001b[0;34m\u001b[0m\u001b[0m\n\u001b[0;32m---> 12\u001b[0;31m \u001b[0mmax_loyalty_material_idx\u001b[0m \u001b[0;34m=\u001b[0m \u001b[0;34m(\u001b[0m\u001b[0mclient\u001b[0m\u001b[0;34m.\u001b[0m\u001b[0miloc\u001b[0m\u001b[0;34m[\u001b[0m\u001b[0;36m286\u001b[0m\u001b[0;34m]\u001b[0m\u001b[0;34m)\u001b[0m\u001b[0;34m\u001b[0m\u001b[0;34m\u001b[0m\u001b[0m\n\u001b[0m\u001b[1;32m     13\u001b[0m \u001b[0mprint\u001b[0m\u001b[0;34m(\u001b[0m\u001b[0mmax_loyalty_material_idx\u001b[0m\u001b[0;34m)\u001b[0m\u001b[0;34m\u001b[0m\u001b[0;34m\u001b[0m\u001b[0m\n\u001b[1;32m     14\u001b[0m \u001b[0;31m# find his kNN\u001b[0m\u001b[0;34m\u001b[0m\u001b[0;34m\u001b[0m\u001b[0;34m\u001b[0m\u001b[0m\n",
            "\u001b[0;32m/usr/local/lib/python3.6/dist-packages/pandas/core/indexing.py\u001b[0m in \u001b[0;36m__getitem__\u001b[0;34m(self, key)\u001b[0m\n\u001b[1;32m   1766\u001b[0m \u001b[0;34m\u001b[0m\u001b[0m\n\u001b[1;32m   1767\u001b[0m             \u001b[0mmaybe_callable\u001b[0m \u001b[0;34m=\u001b[0m \u001b[0mcom\u001b[0m\u001b[0;34m.\u001b[0m\u001b[0mapply_if_callable\u001b[0m\u001b[0;34m(\u001b[0m\u001b[0mkey\u001b[0m\u001b[0;34m,\u001b[0m \u001b[0mself\u001b[0m\u001b[0;34m.\u001b[0m\u001b[0mobj\u001b[0m\u001b[0;34m)\u001b[0m\u001b[0;34m\u001b[0m\u001b[0;34m\u001b[0m\u001b[0m\n\u001b[0;32m-> 1768\u001b[0;31m             \u001b[0;32mreturn\u001b[0m \u001b[0mself\u001b[0m\u001b[0;34m.\u001b[0m\u001b[0m_getitem_axis\u001b[0m\u001b[0;34m(\u001b[0m\u001b[0mmaybe_callable\u001b[0m\u001b[0;34m,\u001b[0m \u001b[0maxis\u001b[0m\u001b[0;34m=\u001b[0m\u001b[0maxis\u001b[0m\u001b[0;34m)\u001b[0m\u001b[0;34m\u001b[0m\u001b[0;34m\u001b[0m\u001b[0m\n\u001b[0m\u001b[1;32m   1769\u001b[0m \u001b[0;34m\u001b[0m\u001b[0m\n\u001b[1;32m   1770\u001b[0m     \u001b[0;32mdef\u001b[0m \u001b[0m_is_scalar_access\u001b[0m\u001b[0;34m(\u001b[0m\u001b[0mself\u001b[0m\u001b[0;34m,\u001b[0m \u001b[0mkey\u001b[0m\u001b[0;34m:\u001b[0m \u001b[0mTuple\u001b[0m\u001b[0;34m)\u001b[0m\u001b[0;34m:\u001b[0m\u001b[0;34m\u001b[0m\u001b[0;34m\u001b[0m\u001b[0m\n",
            "\u001b[0;32m/usr/local/lib/python3.6/dist-packages/pandas/core/indexing.py\u001b[0m in \u001b[0;36m_getitem_axis\u001b[0;34m(self, key, axis)\u001b[0m\n\u001b[1;32m   2136\u001b[0m \u001b[0;34m\u001b[0m\u001b[0m\n\u001b[1;32m   2137\u001b[0m             \u001b[0;31m# validate the location\u001b[0m\u001b[0;34m\u001b[0m\u001b[0;34m\u001b[0m\u001b[0;34m\u001b[0m\u001b[0m\n\u001b[0;32m-> 2138\u001b[0;31m             \u001b[0mself\u001b[0m\u001b[0;34m.\u001b[0m\u001b[0m_validate_integer\u001b[0m\u001b[0;34m(\u001b[0m\u001b[0mkey\u001b[0m\u001b[0;34m,\u001b[0m \u001b[0maxis\u001b[0m\u001b[0;34m)\u001b[0m\u001b[0;34m\u001b[0m\u001b[0;34m\u001b[0m\u001b[0m\n\u001b[0m\u001b[1;32m   2139\u001b[0m \u001b[0;34m\u001b[0m\u001b[0m\n\u001b[1;32m   2140\u001b[0m             \u001b[0;32mreturn\u001b[0m \u001b[0mself\u001b[0m\u001b[0;34m.\u001b[0m\u001b[0m_get_loc\u001b[0m\u001b[0;34m(\u001b[0m\u001b[0mkey\u001b[0m\u001b[0;34m,\u001b[0m \u001b[0maxis\u001b[0m\u001b[0;34m=\u001b[0m\u001b[0maxis\u001b[0m\u001b[0;34m)\u001b[0m\u001b[0;34m\u001b[0m\u001b[0;34m\u001b[0m\u001b[0m\n",
            "\u001b[0;32m/usr/local/lib/python3.6/dist-packages/pandas/core/indexing.py\u001b[0m in \u001b[0;36m_validate_integer\u001b[0;34m(self, key, axis)\u001b[0m\n\u001b[1;32m   2061\u001b[0m         \u001b[0mlen_axis\u001b[0m \u001b[0;34m=\u001b[0m \u001b[0mlen\u001b[0m\u001b[0;34m(\u001b[0m\u001b[0mself\u001b[0m\u001b[0;34m.\u001b[0m\u001b[0mobj\u001b[0m\u001b[0;34m.\u001b[0m\u001b[0m_get_axis\u001b[0m\u001b[0;34m(\u001b[0m\u001b[0maxis\u001b[0m\u001b[0;34m)\u001b[0m\u001b[0;34m)\u001b[0m\u001b[0;34m\u001b[0m\u001b[0;34m\u001b[0m\u001b[0m\n\u001b[1;32m   2062\u001b[0m         \u001b[0;32mif\u001b[0m \u001b[0mkey\u001b[0m \u001b[0;34m>=\u001b[0m \u001b[0mlen_axis\u001b[0m \u001b[0;32mor\u001b[0m \u001b[0mkey\u001b[0m \u001b[0;34m<\u001b[0m \u001b[0;34m-\u001b[0m\u001b[0mlen_axis\u001b[0m\u001b[0;34m:\u001b[0m\u001b[0;34m\u001b[0m\u001b[0;34m\u001b[0m\u001b[0m\n\u001b[0;32m-> 2063\u001b[0;31m             \u001b[0;32mraise\u001b[0m \u001b[0mIndexError\u001b[0m\u001b[0;34m(\u001b[0m\u001b[0;34m\"single positional indexer is out-of-bounds\"\u001b[0m\u001b[0;34m)\u001b[0m\u001b[0;34m\u001b[0m\u001b[0;34m\u001b[0m\u001b[0m\n\u001b[0m\u001b[1;32m   2064\u001b[0m \u001b[0;34m\u001b[0m\u001b[0m\n\u001b[1;32m   2065\u001b[0m     \u001b[0;32mdef\u001b[0m \u001b[0m_getitem_tuple\u001b[0m\u001b[0;34m(\u001b[0m\u001b[0mself\u001b[0m\u001b[0;34m,\u001b[0m \u001b[0mtup\u001b[0m\u001b[0;34m:\u001b[0m \u001b[0mTuple\u001b[0m\u001b[0;34m)\u001b[0m\u001b[0;34m:\u001b[0m\u001b[0;34m\u001b[0m\u001b[0;34m\u001b[0m\u001b[0m\n",
            "\u001b[0;31mIndexError\u001b[0m: single positional indexer is out-of-bounds"
          ]
        }
      ]
    },
    {
      "cell_type": "code",
      "metadata": {
        "id": "WTpeGio-QTQ6"
      },
      "source": [
        "# EXAMPLE\n",
        "import time\n",
        "\n",
        "start = time.time()\n",
        "\n",
        "client_id = '0004274683494a9eca5e70ef97299d55'\n",
        "\n",
        "rp = find_replacement(client_id)\n"
      ],
      "execution_count": 91,
      "outputs": []
    },
    {
      "cell_type": "code",
      "metadata": {
        "id": "fKNQaKUVjHdg",
        "outputId": "5c16cf3c-a5df-43d3-c771-35adf8d9aaf4",
        "colab": {
          "base_uri": "https://localhost:8080/",
          "height": 419
        }
      },
      "source": [
        "#test_data = pd.read_csv('/content/drive/My Drive/LentaHack/test.csv')\n",
        "clients = test_data.client_id.unique()\n",
        "test_data"
      ],
      "execution_count": 28,
      "outputs": [
        {
          "output_type": "execute_result",
          "data": {
            "text/html": [
              "<div>\n",
              "<style scoped>\n",
              "    .dataframe tbody tr th:only-of-type {\n",
              "        vertical-align: middle;\n",
              "    }\n",
              "\n",
              "    .dataframe tbody tr th {\n",
              "        vertical-align: top;\n",
              "    }\n",
              "\n",
              "    .dataframe thead th {\n",
              "        text-align: right;\n",
              "    }\n",
              "</style>\n",
              "<table border=\"1\" class=\"dataframe\">\n",
              "  <thead>\n",
              "    <tr style=\"text-align: right;\">\n",
              "      <th></th>\n",
              "      <th>Unnamed: 0</th>\n",
              "      <th>client_id</th>\n",
              "      <th>material</th>\n",
              "      <th>sales_count_x</th>\n",
              "      <th>hier_level_4</th>\n",
              "      <th>sales_count_y</th>\n",
              "    </tr>\n",
              "  </thead>\n",
              "  <tbody>\n",
              "    <tr>\n",
              "      <th>0</th>\n",
              "      <td>0</td>\n",
              "      <td>0000d48a8891cd462fdf01ea861ec53e</td>\n",
              "      <td>00a84aa181787e5c6c066e4893101eff</td>\n",
              "      <td>0.486</td>\n",
              "      <td>a8c04add9dedf192fb9141bd41d4c85d</td>\n",
              "      <td>1.152</td>\n",
              "    </tr>\n",
              "    <tr>\n",
              "      <th>1</th>\n",
              "      <td>1</td>\n",
              "      <td>0000d48a8891cd462fdf01ea861ec53e</td>\n",
              "      <td>2f0a52aa937c0e9378d4ff6f2f6dfdb7</td>\n",
              "      <td>0.228</td>\n",
              "      <td>a8c04add9dedf192fb9141bd41d4c85d</td>\n",
              "      <td>1.152</td>\n",
              "    </tr>\n",
              "    <tr>\n",
              "      <th>2</th>\n",
              "      <td>2</td>\n",
              "      <td>0000d48a8891cd462fdf01ea861ec53e</td>\n",
              "      <td>af7bdccc064ef335c1cd0210a9d0f395</td>\n",
              "      <td>0.438</td>\n",
              "      <td>a8c04add9dedf192fb9141bd41d4c85d</td>\n",
              "      <td>1.152</td>\n",
              "    </tr>\n",
              "    <tr>\n",
              "      <th>3</th>\n",
              "      <td>3</td>\n",
              "      <td>0000d48a8891cd462fdf01ea861ec53e</td>\n",
              "      <td>00c5d51c9029b72cfe32b3935f4685ac</td>\n",
              "      <td>1.000</td>\n",
              "      <td>62d16a465495a62e67183681ae33aa99</td>\n",
              "      <td>2.000</td>\n",
              "    </tr>\n",
              "    <tr>\n",
              "      <th>4</th>\n",
              "      <td>4</td>\n",
              "      <td>0000d48a8891cd462fdf01ea861ec53e</td>\n",
              "      <td>5f3ccff53da9a228bebcba1eeac94010</td>\n",
              "      <td>1.000</td>\n",
              "      <td>62d16a465495a62e67183681ae33aa99</td>\n",
              "      <td>2.000</td>\n",
              "    </tr>\n",
              "    <tr>\n",
              "      <th>...</th>\n",
              "      <td>...</td>\n",
              "      <td>...</td>\n",
              "      <td>...</td>\n",
              "      <td>...</td>\n",
              "      <td>...</td>\n",
              "      <td>...</td>\n",
              "    </tr>\n",
              "    <tr>\n",
              "      <th>6035350</th>\n",
              "      <td>6035350</td>\n",
              "      <td>fffd3e78e3ea6bf00aee1372efc09dad</td>\n",
              "      <td>b1d7591d2e8ab3c709c3c53c4094f705</td>\n",
              "      <td>1.000</td>\n",
              "      <td>86c82bb5cc4a93ac4d579cdc5d75c5bc</td>\n",
              "      <td>1.000</td>\n",
              "    </tr>\n",
              "    <tr>\n",
              "      <th>6035351</th>\n",
              "      <td>6035351</td>\n",
              "      <td>fffd3e78e3ea6bf00aee1372efc09dad</td>\n",
              "      <td>be497986bd5afd60acc5b5b0e7bdfcee</td>\n",
              "      <td>1.000</td>\n",
              "      <td>f1471bc23e88cb9d971953f99e020188</td>\n",
              "      <td>1.000</td>\n",
              "    </tr>\n",
              "    <tr>\n",
              "      <th>6035352</th>\n",
              "      <td>6035352</td>\n",
              "      <td>fffd3e78e3ea6bf00aee1372efc09dad</td>\n",
              "      <td>bf868ab23a696dac26535b70ffb5b047</td>\n",
              "      <td>2.000</td>\n",
              "      <td>807f195307dc092a426eda79b4da398f</td>\n",
              "      <td>2.000</td>\n",
              "    </tr>\n",
              "    <tr>\n",
              "      <th>6035353</th>\n",
              "      <td>6035353</td>\n",
              "      <td>fffd3e78e3ea6bf00aee1372efc09dad</td>\n",
              "      <td>ccb92be59ce7e5f3371b0dea5e871a9b</td>\n",
              "      <td>1.000</td>\n",
              "      <td>dd1543656cc988aac30ead1562ec6e4d</td>\n",
              "      <td>1.000</td>\n",
              "    </tr>\n",
              "    <tr>\n",
              "      <th>6035354</th>\n",
              "      <td>6035354</td>\n",
              "      <td>fffd3e78e3ea6bf00aee1372efc09dad</td>\n",
              "      <td>e89e34f478fbc99946179da50461eb00</td>\n",
              "      <td>1.000</td>\n",
              "      <td>110740ea315312b121593a208b889c5d</td>\n",
              "      <td>1.000</td>\n",
              "    </tr>\n",
              "  </tbody>\n",
              "</table>\n",
              "<p>6035355 rows × 6 columns</p>\n",
              "</div>"
            ],
            "text/plain": [
              "         Unnamed: 0  ... sales_count_y\n",
              "0                 0  ...         1.152\n",
              "1                 1  ...         1.152\n",
              "2                 2  ...         1.152\n",
              "3                 3  ...         2.000\n",
              "4                 4  ...         2.000\n",
              "...             ...  ...           ...\n",
              "6035350     6035350  ...         1.000\n",
              "6035351     6035351  ...         1.000\n",
              "6035352     6035352  ...         2.000\n",
              "6035353     6035353  ...         1.000\n",
              "6035354     6035354  ...         1.000\n",
              "\n",
              "[6035355 rows x 6 columns]"
            ]
          },
          "metadata": {
            "tags": []
          },
          "execution_count": 28
        }
      ]
    },
    {
      "cell_type": "code",
      "metadata": {
        "id": "2rXJxXi3sywc",
        "outputId": "b5312374-31c6-41fe-8f3c-2a839a9aaf99",
        "colab": {
          "base_uri": "https://localhost:8080/",
          "height": 238
        }
      },
      "source": [
        "!pip install IPython\n",
        "from IPython.display import clear_output\n"
      ],
      "execution_count": 43,
      "outputs": [
        {
          "output_type": "stream",
          "text": [
            "Requirement already satisfied: IPython in /usr/local/lib/python3.6/dist-packages (5.5.0)\n",
            "Requirement already satisfied: pexpect; sys_platform != \"win32\" in /usr/local/lib/python3.6/dist-packages (from IPython) (4.8.0)\n",
            "Requirement already satisfied: traitlets>=4.2 in /usr/local/lib/python3.6/dist-packages (from IPython) (4.3.3)\n",
            "Requirement already satisfied: decorator in /usr/local/lib/python3.6/dist-packages (from IPython) (4.4.2)\n",
            "Requirement already satisfied: prompt-toolkit<2.0.0,>=1.0.4 in /usr/local/lib/python3.6/dist-packages (from IPython) (1.0.18)\n",
            "Requirement already satisfied: setuptools>=18.5 in /usr/local/lib/python3.6/dist-packages (from IPython) (50.3.0)\n",
            "Requirement already satisfied: simplegeneric>0.8 in /usr/local/lib/python3.6/dist-packages (from IPython) (0.8.1)\n",
            "Requirement already satisfied: pygments in /usr/local/lib/python3.6/dist-packages (from IPython) (2.6.1)\n",
            "Requirement already satisfied: pickleshare in /usr/local/lib/python3.6/dist-packages (from IPython) (0.7.5)\n",
            "Requirement already satisfied: ptyprocess>=0.5 in /usr/local/lib/python3.6/dist-packages (from pexpect; sys_platform != \"win32\"->IPython) (0.6.0)\n",
            "Requirement already satisfied: six in /usr/local/lib/python3.6/dist-packages (from traitlets>=4.2->IPython) (1.15.0)\n",
            "Requirement already satisfied: ipython-genutils in /usr/local/lib/python3.6/dist-packages (from traitlets>=4.2->IPython) (0.2.0)\n",
            "Requirement already satisfied: wcwidth in /usr/local/lib/python3.6/dist-packages (from prompt-toolkit<2.0.0,>=1.0.4->IPython) (0.2.5)\n"
          ],
          "name": "stdout"
        }
      ]
    },
    {
      "cell_type": "code",
      "metadata": {
        "id": "0NScH_y9jZ4M"
      },
      "source": [
        "from tqdm import tqdm\n",
        "\n",
        "count = 0\n",
        "for i, client in enumerate(tqdm(clients)):\n",
        "    replacement = find_replacement(client)\n",
        "    count += replacement in test_data[test_data['client_id'] == client].material.unique()\n",
        "    if i % 50 == 0:\n",
        "      print(i, count)\n"
      ],
      "execution_count": null,
      "outputs": []
    },
    {
      "cell_type": "code",
      "metadata": {
        "id": "bmK9wWSrmTYL",
        "outputId": "e1c8de0f-5e5a-47b2-dfb5-e6459a3406da",
        "colab": {
          "base_uri": "https://localhost:8080/",
          "height": 34
        }
      },
      "source": [
        "replacement in test_data.material.unique()"
      ],
      "execution_count": 35,
      "outputs": [
        {
          "output_type": "execute_result",
          "data": {
            "text/plain": [
              "True"
            ]
          },
          "metadata": {
            "tags": []
          },
          "execution_count": 35
        }
      ]
    }
  ]
}